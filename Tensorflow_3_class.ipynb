{
 "cells": [
  {
   "cell_type": "code",
   "execution_count": 261,
   "metadata": {},
   "outputs": [],
   "source": [
    "import pandas as pd\n",
    "import numpy as np\n",
    "import seaborn as sns"
   ]
  },
  {
   "cell_type": "code",
   "execution_count": 262,
   "metadata": {},
   "outputs": [
    {
     "data": {
      "text/html": [
       "<div>\n",
       "<style scoped>\n",
       "    .dataframe tbody tr th:only-of-type {\n",
       "        vertical-align: middle;\n",
       "    }\n",
       "\n",
       "    .dataframe tbody tr th {\n",
       "        vertical-align: top;\n",
       "    }\n",
       "\n",
       "    .dataframe thead th {\n",
       "        text-align: right;\n",
       "    }\n",
       "</style>\n",
       "<table border=\"1\" class=\"dataframe\">\n",
       "  <thead>\n",
       "    <tr style=\"text-align: right;\">\n",
       "      <th></th>\n",
       "      <th>Id</th>\n",
       "      <th>SepalLengthCm</th>\n",
       "      <th>SepalWidthCm</th>\n",
       "      <th>PetalLengthCm</th>\n",
       "      <th>PetalWidthCm</th>\n",
       "      <th>Species</th>\n",
       "    </tr>\n",
       "  </thead>\n",
       "  <tbody>\n",
       "    <tr>\n",
       "      <th>0</th>\n",
       "      <td>1</td>\n",
       "      <td>5.1</td>\n",
       "      <td>3.5</td>\n",
       "      <td>1.4</td>\n",
       "      <td>0.2</td>\n",
       "      <td>Iris-setosa</td>\n",
       "    </tr>\n",
       "    <tr>\n",
       "      <th>1</th>\n",
       "      <td>2</td>\n",
       "      <td>4.9</td>\n",
       "      <td>3.0</td>\n",
       "      <td>1.4</td>\n",
       "      <td>0.2</td>\n",
       "      <td>Iris-setosa</td>\n",
       "    </tr>\n",
       "    <tr>\n",
       "      <th>2</th>\n",
       "      <td>3</td>\n",
       "      <td>4.7</td>\n",
       "      <td>3.2</td>\n",
       "      <td>1.3</td>\n",
       "      <td>0.2</td>\n",
       "      <td>Iris-setosa</td>\n",
       "    </tr>\n",
       "    <tr>\n",
       "      <th>3</th>\n",
       "      <td>4</td>\n",
       "      <td>4.6</td>\n",
       "      <td>3.1</td>\n",
       "      <td>1.5</td>\n",
       "      <td>0.2</td>\n",
       "      <td>Iris-setosa</td>\n",
       "    </tr>\n",
       "    <tr>\n",
       "      <th>4</th>\n",
       "      <td>5</td>\n",
       "      <td>5.0</td>\n",
       "      <td>3.6</td>\n",
       "      <td>1.4</td>\n",
       "      <td>0.2</td>\n",
       "      <td>Iris-setosa</td>\n",
       "    </tr>\n",
       "  </tbody>\n",
       "</table>\n",
       "</div>"
      ],
      "text/plain": [
       "   Id  SepalLengthCm  SepalWidthCm  PetalLengthCm  PetalWidthCm      Species\n",
       "0   1            5.1           3.5            1.4           0.2  Iris-setosa\n",
       "1   2            4.9           3.0            1.4           0.2  Iris-setosa\n",
       "2   3            4.7           3.2            1.3           0.2  Iris-setosa\n",
       "3   4            4.6           3.1            1.5           0.2  Iris-setosa\n",
       "4   5            5.0           3.6            1.4           0.2  Iris-setosa"
      ]
     },
     "execution_count": 262,
     "metadata": {},
     "output_type": "execute_result"
    }
   ],
   "source": [
    "df = pd.read_csv('DataSet/Iris.csv')\n",
    "df.head()"
   ]
  },
  {
   "cell_type": "code",
   "execution_count": 263,
   "metadata": {},
   "outputs": [
    {
     "data": {
      "text/plain": [
       "Index(['Iris-setosa', 'Iris-versicolor', 'Iris-virginica'], dtype='object')"
      ]
     },
     "execution_count": 263,
     "metadata": {},
     "output_type": "execute_result"
    }
   ],
   "source": [
    "y, class_names = pd.factorize(df.Species, sort=True)\n",
    "\n",
    "class_names"
   ]
  },
  {
   "cell_type": "code",
   "execution_count": 264,
   "metadata": {},
   "outputs": [
    {
     "data": {
      "text/plain": [
       "array([0, 0, 0, 0, 0, 1, 1, 1, 1, 1])"
      ]
     },
     "execution_count": 264,
     "metadata": {},
     "output_type": "execute_result"
    }
   ],
   "source": [
    "y[45:55]"
   ]
  },
  {
   "attachments": {},
   "cell_type": "markdown",
   "metadata": {},
   "source": [
    "<h3>Keras : to_categorical<h3>"
   ]
  },
  {
   "cell_type": "code",
   "execution_count": 265,
   "metadata": {},
   "outputs": [
    {
     "data": {
      "text/plain": [
       "array([0, 1, 0])"
      ]
     },
     "execution_count": 265,
     "metadata": {},
     "output_type": "execute_result"
    }
   ],
   "source": [
    "from tensorflow.keras.utils import to_categorical\n",
    "\n",
    "to_categorical(1, 3).astype(int)"
   ]
  },
  {
   "cell_type": "code",
   "execution_count": 266,
   "metadata": {},
   "outputs": [],
   "source": [
    "cattegories, ids = np.unique(df.Species, return_inverse=True)"
   ]
  },
  {
   "cell_type": "code",
   "execution_count": 267,
   "metadata": {},
   "outputs": [
    {
     "data": {
      "text/plain": [
       "array(['Iris-setosa', 'Iris-versicolor', 'Iris-virginica'], dtype=object)"
      ]
     },
     "execution_count": 267,
     "metadata": {},
     "output_type": "execute_result"
    }
   ],
   "source": [
    "cattegories"
   ]
  },
  {
   "cell_type": "code",
   "execution_count": 268,
   "metadata": {},
   "outputs": [
    {
     "data": {
      "text/plain": [
       "array([0, 0, 0, 0, 0, 0, 0, 0, 0, 0, 0, 0, 0, 0, 0, 0, 0, 0, 0, 0, 0, 0,\n",
       "       0, 0, 0, 0, 0, 0, 0, 0, 0, 0, 0, 0, 0, 0, 0, 0, 0, 0, 0, 0, 0, 0,\n",
       "       0, 0, 0, 0, 0, 0, 1, 1, 1, 1, 1, 1, 1, 1, 1, 1, 1, 1, 1, 1, 1, 1,\n",
       "       1, 1, 1, 1, 1, 1, 1, 1, 1, 1, 1, 1, 1, 1, 1, 1, 1, 1, 1, 1, 1, 1,\n",
       "       1, 1, 1, 1, 1, 1, 1, 1, 1, 1, 1, 1, 2, 2, 2, 2, 2, 2, 2, 2, 2, 2,\n",
       "       2, 2, 2, 2, 2, 2, 2, 2, 2, 2, 2, 2, 2, 2, 2, 2, 2, 2, 2, 2, 2, 2,\n",
       "       2, 2, 2, 2, 2, 2, 2, 2, 2, 2, 2, 2, 2, 2, 2, 2, 2, 2])"
      ]
     },
     "execution_count": 268,
     "metadata": {},
     "output_type": "execute_result"
    }
   ],
   "source": [
    "ids"
   ]
  },
  {
   "cell_type": "code",
   "execution_count": 269,
   "metadata": {},
   "outputs": [
    {
     "data": {
      "text/plain": [
       "array([[1, 0, 0],\n",
       "       [1, 0, 0],\n",
       "       [1, 0, 0],\n",
       "       [0, 1, 0],\n",
       "       [0, 1, 0]])"
      ]
     },
     "execution_count": 269,
     "metadata": {},
     "output_type": "execute_result"
    }
   ],
   "source": [
    "def one_hot_key(arr):\n",
    "    cattegories, ids = np.unique(arr, return_inverse=True)\n",
    "    return to_categorical(ids, len(cattegories))\n",
    "\n",
    "y_1h = one_hot_key(df.Species).astype(int)\n",
    "\n",
    "y_1h[47:52]"
   ]
  },
  {
   "cell_type": "code",
   "execution_count": 270,
   "metadata": {},
   "outputs": [
    {
     "data": {
      "text/plain": [
       "'Iris-versicolor'"
      ]
     },
     "execution_count": 270,
     "metadata": {},
     "output_type": "execute_result"
    }
   ],
   "source": [
    "df.iloc[98].Species"
   ]
  },
  {
   "attachments": {},
   "cell_type": "markdown",
   "metadata": {},
   "source": [
    "<h3>Pandas : get_dummies</h3>"
   ]
  },
  {
   "cell_type": "code",
   "execution_count": 271,
   "metadata": {},
   "outputs": [
    {
     "data": {
      "text/plain": [
       "array([0, 0, 0, 0, 0])"
      ]
     },
     "execution_count": 271,
     "metadata": {},
     "output_type": "execute_result"
    }
   ],
   "source": [
    "y[:5]"
   ]
  },
  {
   "cell_type": "code",
   "execution_count": 272,
   "metadata": {},
   "outputs": [],
   "source": [
    "y_1hgd = pd.get_dummies(y)"
   ]
  },
  {
   "cell_type": "code",
   "execution_count": 273,
   "metadata": {},
   "outputs": [
    {
     "data": {
      "text/html": [
       "<div>\n",
       "<style scoped>\n",
       "    .dataframe tbody tr th:only-of-type {\n",
       "        vertical-align: middle;\n",
       "    }\n",
       "\n",
       "    .dataframe tbody tr th {\n",
       "        vertical-align: top;\n",
       "    }\n",
       "\n",
       "    .dataframe thead th {\n",
       "        text-align: right;\n",
       "    }\n",
       "</style>\n",
       "<table border=\"1\" class=\"dataframe\">\n",
       "  <thead>\n",
       "    <tr style=\"text-align: right;\">\n",
       "      <th></th>\n",
       "      <th>0</th>\n",
       "      <th>1</th>\n",
       "      <th>2</th>\n",
       "    </tr>\n",
       "  </thead>\n",
       "  <tbody>\n",
       "    <tr>\n",
       "      <th>130</th>\n",
       "      <td>False</td>\n",
       "      <td>False</td>\n",
       "      <td>True</td>\n",
       "    </tr>\n",
       "    <tr>\n",
       "      <th>131</th>\n",
       "      <td>False</td>\n",
       "      <td>False</td>\n",
       "      <td>True</td>\n",
       "    </tr>\n",
       "    <tr>\n",
       "      <th>132</th>\n",
       "      <td>False</td>\n",
       "      <td>False</td>\n",
       "      <td>True</td>\n",
       "    </tr>\n",
       "    <tr>\n",
       "      <th>133</th>\n",
       "      <td>False</td>\n",
       "      <td>False</td>\n",
       "      <td>True</td>\n",
       "    </tr>\n",
       "    <tr>\n",
       "      <th>134</th>\n",
       "      <td>False</td>\n",
       "      <td>False</td>\n",
       "      <td>True</td>\n",
       "    </tr>\n",
       "  </tbody>\n",
       "</table>\n",
       "</div>"
      ],
      "text/plain": [
       "         0      1     2\n",
       "130  False  False  True\n",
       "131  False  False  True\n",
       "132  False  False  True\n",
       "133  False  False  True\n",
       "134  False  False  True"
      ]
     },
     "execution_count": 273,
     "metadata": {},
     "output_type": "execute_result"
    }
   ],
   "source": [
    "y_1hgd[130:135]"
   ]
  },
  {
   "attachments": {},
   "cell_type": "markdown",
   "metadata": {},
   "source": [
    "<h3>SKlearn : OneHotEncoder</h3>"
   ]
  },
  {
   "cell_type": "code",
   "execution_count": 274,
   "metadata": {},
   "outputs": [
    {
     "data": {
      "text/plain": [
       "array([['Iris-setosa'],\n",
       "       ['Iris-setosa'],\n",
       "       ['Iris-setosa'],\n",
       "       ['Iris-setosa'],\n",
       "       ['Iris-setosa']], dtype=object)"
      ]
     },
     "execution_count": 274,
     "metadata": {},
     "output_type": "execute_result"
    }
   ],
   "source": [
    "from sklearn.preprocessing import OneHotEncoder\n",
    "\n",
    "enc = OneHotEncoder()\n",
    "\n",
    "y2 = df.Species.to_numpy()\n",
    "y2 = y2.reshape(-1, 1)\n",
    "\n",
    "y2[:5]"
   ]
  },
  {
   "cell_type": "code",
   "execution_count": 275,
   "metadata": {},
   "outputs": [],
   "source": [
    "y_1hsk = enc.fit_transform(y2).toarray().astype(int)"
   ]
  },
  {
   "cell_type": "code",
   "execution_count": 276,
   "metadata": {},
   "outputs": [
    {
     "data": {
      "text/plain": [
       "array([1, 0, 0])"
      ]
     },
     "execution_count": 276,
     "metadata": {},
     "output_type": "execute_result"
    }
   ],
   "source": [
    "y_1hsk[14]"
   ]
  },
  {
   "cell_type": "code",
   "execution_count": 277,
   "metadata": {},
   "outputs": [
    {
     "data": {
      "text/html": [
       "<div>\n",
       "<style scoped>\n",
       "    .dataframe tbody tr th:only-of-type {\n",
       "        vertical-align: middle;\n",
       "    }\n",
       "\n",
       "    .dataframe tbody tr th {\n",
       "        vertical-align: top;\n",
       "    }\n",
       "\n",
       "    .dataframe thead th {\n",
       "        text-align: right;\n",
       "    }\n",
       "</style>\n",
       "<table border=\"1\" class=\"dataframe\">\n",
       "  <thead>\n",
       "    <tr style=\"text-align: right;\">\n",
       "      <th></th>\n",
       "      <th>SepalLengthCm</th>\n",
       "      <th>SepalWidthCm</th>\n",
       "      <th>PetalLengthCm</th>\n",
       "      <th>PetalWidthCm</th>\n",
       "    </tr>\n",
       "  </thead>\n",
       "  <tbody>\n",
       "    <tr>\n",
       "      <th>0</th>\n",
       "      <td>5.1</td>\n",
       "      <td>3.5</td>\n",
       "      <td>1.4</td>\n",
       "      <td>0.2</td>\n",
       "    </tr>\n",
       "    <tr>\n",
       "      <th>1</th>\n",
       "      <td>4.9</td>\n",
       "      <td>3.0</td>\n",
       "      <td>1.4</td>\n",
       "      <td>0.2</td>\n",
       "    </tr>\n",
       "    <tr>\n",
       "      <th>2</th>\n",
       "      <td>4.7</td>\n",
       "      <td>3.2</td>\n",
       "      <td>1.3</td>\n",
       "      <td>0.2</td>\n",
       "    </tr>\n",
       "    <tr>\n",
       "      <th>3</th>\n",
       "      <td>4.6</td>\n",
       "      <td>3.1</td>\n",
       "      <td>1.5</td>\n",
       "      <td>0.2</td>\n",
       "    </tr>\n",
       "    <tr>\n",
       "      <th>4</th>\n",
       "      <td>5.0</td>\n",
       "      <td>3.6</td>\n",
       "      <td>1.4</td>\n",
       "      <td>0.2</td>\n",
       "    </tr>\n",
       "    <tr>\n",
       "      <th>...</th>\n",
       "      <td>...</td>\n",
       "      <td>...</td>\n",
       "      <td>...</td>\n",
       "      <td>...</td>\n",
       "    </tr>\n",
       "    <tr>\n",
       "      <th>145</th>\n",
       "      <td>6.7</td>\n",
       "      <td>3.0</td>\n",
       "      <td>5.2</td>\n",
       "      <td>2.3</td>\n",
       "    </tr>\n",
       "    <tr>\n",
       "      <th>146</th>\n",
       "      <td>6.3</td>\n",
       "      <td>2.5</td>\n",
       "      <td>5.0</td>\n",
       "      <td>1.9</td>\n",
       "    </tr>\n",
       "    <tr>\n",
       "      <th>147</th>\n",
       "      <td>6.5</td>\n",
       "      <td>3.0</td>\n",
       "      <td>5.2</td>\n",
       "      <td>2.0</td>\n",
       "    </tr>\n",
       "    <tr>\n",
       "      <th>148</th>\n",
       "      <td>6.2</td>\n",
       "      <td>3.4</td>\n",
       "      <td>5.4</td>\n",
       "      <td>2.3</td>\n",
       "    </tr>\n",
       "    <tr>\n",
       "      <th>149</th>\n",
       "      <td>5.9</td>\n",
       "      <td>3.0</td>\n",
       "      <td>5.1</td>\n",
       "      <td>1.8</td>\n",
       "    </tr>\n",
       "  </tbody>\n",
       "</table>\n",
       "<p>150 rows × 4 columns</p>\n",
       "</div>"
      ],
      "text/plain": [
       "     SepalLengthCm  SepalWidthCm  PetalLengthCm  PetalWidthCm\n",
       "0              5.1           3.5            1.4           0.2\n",
       "1              4.9           3.0            1.4           0.2\n",
       "2              4.7           3.2            1.3           0.2\n",
       "3              4.6           3.1            1.5           0.2\n",
       "4              5.0           3.6            1.4           0.2\n",
       "..             ...           ...            ...           ...\n",
       "145            6.7           3.0            5.2           2.3\n",
       "146            6.3           2.5            5.0           1.9\n",
       "147            6.5           3.0            5.2           2.0\n",
       "148            6.2           3.4            5.4           2.3\n",
       "149            5.9           3.0            5.1           1.8\n",
       "\n",
       "[150 rows x 4 columns]"
      ]
     },
     "execution_count": 277,
     "metadata": {},
     "output_type": "execute_result"
    }
   ],
   "source": [
    "x = df.drop(['Id', 'Species'], axis=1)\n",
    "x"
   ]
  },
  {
   "attachments": {},
   "cell_type": "markdown",
   "metadata": {},
   "source": [
    "<h3>Feature Scaling</h3>"
   ]
  },
  {
   "cell_type": "code",
   "execution_count": 278,
   "metadata": {},
   "outputs": [
    {
     "data": {
      "text/plain": [
       "array([[-0.90068117,  1.03205722, -1.3412724 , -1.31297673],\n",
       "       [-1.14301691, -0.1249576 , -1.3412724 , -1.31297673],\n",
       "       [-1.38535265,  0.33784833, -1.39813811, -1.31297673],\n",
       "       [-1.50652052,  0.10644536, -1.2844067 , -1.31297673]])"
      ]
     },
     "execution_count": 278,
     "metadata": {},
     "output_type": "execute_result"
    }
   ],
   "source": [
    "from sklearn.preprocessing import StandardScaler\n",
    "\n",
    "sc = StandardScaler()\n",
    "\n",
    "x_sc = sc.fit_transform(x)\n",
    "x_sc[:4]"
   ]
  },
  {
   "attachments": {},
   "cell_type": "markdown",
   "metadata": {},
   "source": [
    "<h3>Train-Test Split</h3>"
   ]
  },
  {
   "cell_type": "code",
   "execution_count": 279,
   "metadata": {},
   "outputs": [
    {
     "data": {
      "text/plain": [
       "(112, 38)"
      ]
     },
     "execution_count": 279,
     "metadata": {},
     "output_type": "execute_result"
    }
   ],
   "source": [
    "from sklearn.model_selection import train_test_split\n",
    "\n",
    "x_train, x_test, y_train, y_test = train_test_split(x_sc, y, test_size=0.25, random_state=20)\n",
    "\n",
    "len(x_train), len(x_test)"
   ]
  },
  {
   "cell_type": "code",
   "execution_count": 280,
   "metadata": {},
   "outputs": [],
   "source": [
    "def one_hot_key(arr):\n",
    "    cattegories, ids = np.unique(arr, return_inverse=True)\n",
    "    return to_categorical(ids, len(cattegories))\n",
    "\n",
    "y_train_1h = one_hot_key(y_train).astype(int)\n",
    "\n",
    "y_test_1h = one_hot_key(y_test).astype(int)"
   ]
  },
  {
   "attachments": {},
   "cell_type": "markdown",
   "metadata": {},
   "source": [
    "<h3>Model</h3>"
   ]
  },
  {
   "cell_type": "code",
   "execution_count": 281,
   "metadata": {},
   "outputs": [],
   "source": [
    "from tensorflow.keras import Sequential\n",
    "from tensorflow.keras.layers import Dense\n",
    "\n",
    "model = Sequential()\n",
    "\n",
    "hidden_node = 128\n",
    "model.add(Dense(hidden_node, activation='relu', input_shape=(4,)))\n",
    "\n",
    "model.add(Dense(3, activation='softmax'))"
   ]
  },
  {
   "cell_type": "code",
   "execution_count": 282,
   "metadata": {},
   "outputs": [
    {
     "name": "stdout",
     "output_type": "stream",
     "text": [
      "Model: \"sequential_7\"\n",
      "_________________________________________________________________\n",
      " Layer (type)                Output Shape              Param #   \n",
      "=================================================================\n",
      " dense_14 (Dense)            (None, 128)               640       \n",
      "                                                                 \n",
      " dense_15 (Dense)            (None, 3)                 387       \n",
      "                                                                 \n",
      "=================================================================\n",
      "Total params: 1027 (4.01 KB)\n",
      "Trainable params: 1027 (4.01 KB)\n",
      "Non-trainable params: 0 (0.00 Byte)\n",
      "_________________________________________________________________\n"
     ]
    }
   ],
   "source": [
    "model.summary()"
   ]
  },
  {
   "cell_type": "code",
   "execution_count": 283,
   "metadata": {},
   "outputs": [
    {
     "data": {
      "text/plain": [
       "(None, 3)"
      ]
     },
     "execution_count": 283,
     "metadata": {},
     "output_type": "execute_result"
    }
   ],
   "source": [
    "model.output_shape"
   ]
  },
  {
   "attachments": {},
   "cell_type": "markdown",
   "metadata": {},
   "source": [
    "<h3>Complie & Train</h3>"
   ]
  },
  {
   "cell_type": "code",
   "execution_count": 284,
   "metadata": {},
   "outputs": [],
   "source": [
    "model.compile(loss='categorical_crossentropy',\n",
    "              optimizer='adam',\n",
    "              metrics=['accuracy'])"
   ]
  },
  {
   "cell_type": "code",
   "execution_count": 285,
   "metadata": {},
   "outputs": [
    {
     "name": "stdout",
     "output_type": "stream",
     "text": [
      "Epoch 1/80\n",
      "2/2 [==============================] - 0s 63ms/step - loss: 1.1240 - accuracy: 0.3690 - val_loss: 1.1078 - val_accuracy: 0.3929\n",
      "Epoch 2/80\n",
      "2/2 [==============================] - 0s 12ms/step - loss: 1.0767 - accuracy: 0.4881 - val_loss: 1.0459 - val_accuracy: 0.3571\n",
      "Epoch 3/80\n",
      "2/2 [==============================] - 0s 12ms/step - loss: 1.0282 - accuracy: 0.4881 - val_loss: 0.9879 - val_accuracy: 0.3929\n",
      "Epoch 4/80\n",
      "2/2 [==============================] - 0s 12ms/step - loss: 0.9840 - accuracy: 0.6071 - val_loss: 0.9329 - val_accuracy: 0.7500\n",
      "Epoch 5/80\n",
      "2/2 [==============================] - 0s 12ms/step - loss: 0.9429 - accuracy: 0.8214 - val_loss: 0.8808 - val_accuracy: 0.7857\n",
      "Epoch 6/80\n",
      "2/2 [==============================] - 0s 12ms/step - loss: 0.9034 - accuracy: 0.8214 - val_loss: 0.8324 - val_accuracy: 0.7857\n",
      "Epoch 7/80\n",
      "2/2 [==============================] - 0s 12ms/step - loss: 0.8645 - accuracy: 0.8333 - val_loss: 0.7879 - val_accuracy: 0.7857\n",
      "Epoch 8/80\n",
      "2/2 [==============================] - 0s 12ms/step - loss: 0.8307 - accuracy: 0.8333 - val_loss: 0.7465 - val_accuracy: 0.7857\n",
      "Epoch 9/80\n",
      "2/2 [==============================] - 0s 13ms/step - loss: 0.7974 - accuracy: 0.8333 - val_loss: 0.7086 - val_accuracy: 0.7857\n",
      "Epoch 10/80\n",
      "2/2 [==============================] - 0s 12ms/step - loss: 0.7661 - accuracy: 0.8333 - val_loss: 0.6737 - val_accuracy: 0.8571\n",
      "Epoch 11/80\n",
      "2/2 [==============================] - 0s 12ms/step - loss: 0.7378 - accuracy: 0.8452 - val_loss: 0.6415 - val_accuracy: 0.8571\n",
      "Epoch 12/80\n",
      "2/2 [==============================] - 0s 12ms/step - loss: 0.7110 - accuracy: 0.8452 - val_loss: 0.6119 - val_accuracy: 0.8571\n",
      "Epoch 13/80\n",
      "2/2 [==============================] - 0s 13ms/step - loss: 0.6847 - accuracy: 0.8452 - val_loss: 0.5846 - val_accuracy: 0.8571\n",
      "Epoch 14/80\n",
      "2/2 [==============================] - 0s 12ms/step - loss: 0.6625 - accuracy: 0.8452 - val_loss: 0.5594 - val_accuracy: 0.8571\n",
      "Epoch 15/80\n",
      "2/2 [==============================] - 0s 12ms/step - loss: 0.6403 - accuracy: 0.8452 - val_loss: 0.5365 - val_accuracy: 0.8571\n",
      "Epoch 16/80\n",
      "2/2 [==============================] - 0s 13ms/step - loss: 0.6205 - accuracy: 0.8452 - val_loss: 0.5160 - val_accuracy: 0.8571\n",
      "Epoch 17/80\n",
      "2/2 [==============================] - 0s 12ms/step - loss: 0.6015 - accuracy: 0.8571 - val_loss: 0.4976 - val_accuracy: 0.8571\n",
      "Epoch 18/80\n",
      "2/2 [==============================] - 0s 12ms/step - loss: 0.5837 - accuracy: 0.8571 - val_loss: 0.4809 - val_accuracy: 0.8571\n",
      "Epoch 19/80\n",
      "2/2 [==============================] - 0s 12ms/step - loss: 0.5675 - accuracy: 0.8571 - val_loss: 0.4656 - val_accuracy: 0.8571\n",
      "Epoch 20/80\n",
      "2/2 [==============================] - 0s 13ms/step - loss: 0.5526 - accuracy: 0.8571 - val_loss: 0.4517 - val_accuracy: 0.8571\n",
      "Epoch 21/80\n",
      "2/2 [==============================] - 0s 13ms/step - loss: 0.5380 - accuracy: 0.8571 - val_loss: 0.4391 - val_accuracy: 0.8571\n",
      "Epoch 22/80\n",
      "2/2 [==============================] - 0s 12ms/step - loss: 0.5245 - accuracy: 0.8571 - val_loss: 0.4274 - val_accuracy: 0.8571\n",
      "Epoch 23/80\n",
      "2/2 [==============================] - 0s 12ms/step - loss: 0.5122 - accuracy: 0.8452 - val_loss: 0.4167 - val_accuracy: 0.8571\n",
      "Epoch 24/80\n",
      "2/2 [==============================] - 0s 15ms/step - loss: 0.5003 - accuracy: 0.8452 - val_loss: 0.4069 - val_accuracy: 0.8571\n",
      "Epoch 25/80\n",
      "2/2 [==============================] - 0s 14ms/step - loss: 0.4890 - accuracy: 0.8452 - val_loss: 0.3977 - val_accuracy: 0.8571\n",
      "Epoch 26/80\n",
      "2/2 [==============================] - 0s 15ms/step - loss: 0.4785 - accuracy: 0.8452 - val_loss: 0.3892 - val_accuracy: 0.8571\n",
      "Epoch 27/80\n",
      "2/2 [==============================] - 0s 15ms/step - loss: 0.4684 - accuracy: 0.8452 - val_loss: 0.3812 - val_accuracy: 0.8571\n",
      "Epoch 28/80\n",
      "2/2 [==============================] - 0s 15ms/step - loss: 0.4590 - accuracy: 0.8452 - val_loss: 0.3738 - val_accuracy: 0.8571\n",
      "Epoch 29/80\n",
      "2/2 [==============================] - 0s 15ms/step - loss: 0.4502 - accuracy: 0.8452 - val_loss: 0.3670 - val_accuracy: 0.8571\n",
      "Epoch 30/80\n",
      "2/2 [==============================] - 0s 15ms/step - loss: 0.4414 - accuracy: 0.8452 - val_loss: 0.3605 - val_accuracy: 0.8929\n",
      "Epoch 31/80\n",
      "2/2 [==============================] - 0s 15ms/step - loss: 0.4335 - accuracy: 0.8452 - val_loss: 0.3545 - val_accuracy: 0.8929\n",
      "Epoch 32/80\n",
      "2/2 [==============================] - 0s 15ms/step - loss: 0.4258 - accuracy: 0.8452 - val_loss: 0.3487 - val_accuracy: 0.8929\n",
      "Epoch 33/80\n",
      "2/2 [==============================] - 0s 15ms/step - loss: 0.4184 - accuracy: 0.8452 - val_loss: 0.3433 - val_accuracy: 0.8929\n",
      "Epoch 34/80\n",
      "2/2 [==============================] - 0s 15ms/step - loss: 0.4115 - accuracy: 0.8452 - val_loss: 0.3381 - val_accuracy: 0.8929\n",
      "Epoch 35/80\n",
      "2/2 [==============================] - 0s 15ms/step - loss: 0.4048 - accuracy: 0.8452 - val_loss: 0.3332 - val_accuracy: 0.8929\n",
      "Epoch 36/80\n",
      "2/2 [==============================] - 0s 15ms/step - loss: 0.3985 - accuracy: 0.8452 - val_loss: 0.3285 - val_accuracy: 0.8929\n",
      "Epoch 37/80\n",
      "2/2 [==============================] - 0s 15ms/step - loss: 0.3922 - accuracy: 0.8452 - val_loss: 0.3241 - val_accuracy: 0.8929\n",
      "Epoch 38/80\n",
      "2/2 [==============================] - 0s 17ms/step - loss: 0.3864 - accuracy: 0.8571 - val_loss: 0.3199 - val_accuracy: 0.8929\n",
      "Epoch 39/80\n",
      "2/2 [==============================] - 0s 15ms/step - loss: 0.3807 - accuracy: 0.8571 - val_loss: 0.3159 - val_accuracy: 0.8929\n",
      "Epoch 40/80\n",
      "2/2 [==============================] - 0s 15ms/step - loss: 0.3753 - accuracy: 0.8571 - val_loss: 0.3121 - val_accuracy: 0.8929\n",
      "Epoch 41/80\n",
      "2/2 [==============================] - 0s 16ms/step - loss: 0.3701 - accuracy: 0.8571 - val_loss: 0.3084 - val_accuracy: 0.8929\n",
      "Epoch 42/80\n",
      "2/2 [==============================] - 0s 16ms/step - loss: 0.3648 - accuracy: 0.8571 - val_loss: 0.3050 - val_accuracy: 0.8929\n",
      "Epoch 43/80\n",
      "2/2 [==============================] - 0s 15ms/step - loss: 0.3601 - accuracy: 0.8571 - val_loss: 0.3016 - val_accuracy: 0.8929\n",
      "Epoch 44/80\n",
      "2/2 [==============================] - 0s 17ms/step - loss: 0.3554 - accuracy: 0.8571 - val_loss: 0.2984 - val_accuracy: 0.8214\n",
      "Epoch 45/80\n",
      "2/2 [==============================] - 0s 17ms/step - loss: 0.3508 - accuracy: 0.8452 - val_loss: 0.2953 - val_accuracy: 0.8214\n",
      "Epoch 46/80\n",
      "2/2 [==============================] - 0s 16ms/step - loss: 0.3466 - accuracy: 0.8452 - val_loss: 0.2923 - val_accuracy: 0.8214\n",
      "Epoch 47/80\n",
      "2/2 [==============================] - 0s 15ms/step - loss: 0.3424 - accuracy: 0.8571 - val_loss: 0.2894 - val_accuracy: 0.8214\n",
      "Epoch 48/80\n",
      "2/2 [==============================] - 0s 17ms/step - loss: 0.3384 - accuracy: 0.8571 - val_loss: 0.2867 - val_accuracy: 0.8214\n",
      "Epoch 49/80\n",
      "2/2 [==============================] - 0s 19ms/step - loss: 0.3346 - accuracy: 0.8571 - val_loss: 0.2840 - val_accuracy: 0.8214\n",
      "Epoch 50/80\n",
      "2/2 [==============================] - 0s 34ms/step - loss: 0.3308 - accuracy: 0.8571 - val_loss: 0.2813 - val_accuracy: 0.8571\n",
      "Epoch 51/80\n",
      "2/2 [==============================] - 0s 20ms/step - loss: 0.3270 - accuracy: 0.8571 - val_loss: 0.2787 - val_accuracy: 0.8571\n",
      "Epoch 52/80\n",
      "2/2 [==============================] - 0s 19ms/step - loss: 0.3234 - accuracy: 0.8571 - val_loss: 0.2762 - val_accuracy: 0.8571\n",
      "Epoch 53/80\n",
      "2/2 [==============================] - 0s 16ms/step - loss: 0.3198 - accuracy: 0.8571 - val_loss: 0.2736 - val_accuracy: 0.8571\n",
      "Epoch 54/80\n",
      "2/2 [==============================] - 0s 15ms/step - loss: 0.3164 - accuracy: 0.8571 - val_loss: 0.2712 - val_accuracy: 0.8571\n",
      "Epoch 55/80\n",
      "2/2 [==============================] - 0s 16ms/step - loss: 0.3131 - accuracy: 0.8690 - val_loss: 0.2687 - val_accuracy: 0.8571\n",
      "Epoch 56/80\n",
      "2/2 [==============================] - 0s 14ms/step - loss: 0.3096 - accuracy: 0.8810 - val_loss: 0.2663 - val_accuracy: 0.8571\n",
      "Epoch 57/80\n",
      "2/2 [==============================] - 0s 14ms/step - loss: 0.3066 - accuracy: 0.8810 - val_loss: 0.2640 - val_accuracy: 0.8571\n",
      "Epoch 58/80\n",
      "2/2 [==============================] - 0s 15ms/step - loss: 0.3032 - accuracy: 0.8810 - val_loss: 0.2617 - val_accuracy: 0.8571\n",
      "Epoch 59/80\n",
      "2/2 [==============================] - 0s 16ms/step - loss: 0.3001 - accuracy: 0.8929 - val_loss: 0.2593 - val_accuracy: 0.8571\n",
      "Epoch 60/80\n",
      "2/2 [==============================] - 0s 17ms/step - loss: 0.2969 - accuracy: 0.8929 - val_loss: 0.2569 - val_accuracy: 0.8571\n",
      "Epoch 61/80\n",
      "2/2 [==============================] - 0s 18ms/step - loss: 0.2936 - accuracy: 0.8929 - val_loss: 0.2544 - val_accuracy: 0.8571\n",
      "Epoch 62/80\n",
      "2/2 [==============================] - 0s 16ms/step - loss: 0.2904 - accuracy: 0.8929 - val_loss: 0.2520 - val_accuracy: 0.8929\n",
      "Epoch 63/80\n",
      "2/2 [==============================] - 0s 16ms/step - loss: 0.2874 - accuracy: 0.9048 - val_loss: 0.2496 - val_accuracy: 0.8929\n",
      "Epoch 64/80\n",
      "2/2 [==============================] - 0s 17ms/step - loss: 0.2842 - accuracy: 0.9048 - val_loss: 0.2474 - val_accuracy: 0.8929\n",
      "Epoch 65/80\n",
      "2/2 [==============================] - 0s 16ms/step - loss: 0.2812 - accuracy: 0.9048 - val_loss: 0.2452 - val_accuracy: 0.8929\n",
      "Epoch 66/80\n",
      "2/2 [==============================] - 0s 18ms/step - loss: 0.2783 - accuracy: 0.9048 - val_loss: 0.2429 - val_accuracy: 0.8929\n",
      "Epoch 67/80\n",
      "2/2 [==============================] - 0s 16ms/step - loss: 0.2753 - accuracy: 0.9048 - val_loss: 0.2408 - val_accuracy: 0.9286\n",
      "Epoch 68/80\n",
      "2/2 [==============================] - 0s 17ms/step - loss: 0.2725 - accuracy: 0.9048 - val_loss: 0.2387 - val_accuracy: 0.9286\n",
      "Epoch 69/80\n",
      "2/2 [==============================] - 0s 16ms/step - loss: 0.2696 - accuracy: 0.9048 - val_loss: 0.2367 - val_accuracy: 0.9286\n",
      "Epoch 70/80\n",
      "2/2 [==============================] - 0s 16ms/step - loss: 0.2668 - accuracy: 0.9048 - val_loss: 0.2347 - val_accuracy: 0.9286\n",
      "Epoch 71/80\n",
      "2/2 [==============================] - 0s 16ms/step - loss: 0.2641 - accuracy: 0.9048 - val_loss: 0.2327 - val_accuracy: 0.9286\n",
      "Epoch 72/80\n",
      "2/2 [==============================] - 0s 15ms/step - loss: 0.2614 - accuracy: 0.9048 - val_loss: 0.2308 - val_accuracy: 0.9286\n",
      "Epoch 73/80\n",
      "2/2 [==============================] - 0s 16ms/step - loss: 0.2586 - accuracy: 0.9048 - val_loss: 0.2288 - val_accuracy: 0.9286\n",
      "Epoch 74/80\n",
      "2/2 [==============================] - 0s 17ms/step - loss: 0.2558 - accuracy: 0.9048 - val_loss: 0.2268 - val_accuracy: 0.9286\n",
      "Epoch 75/80\n",
      "2/2 [==============================] - 0s 16ms/step - loss: 0.2532 - accuracy: 0.9048 - val_loss: 0.2249 - val_accuracy: 0.9643\n",
      "Epoch 76/80\n",
      "2/2 [==============================] - 0s 17ms/step - loss: 0.2505 - accuracy: 0.9048 - val_loss: 0.2230 - val_accuracy: 0.9643\n",
      "Epoch 77/80\n",
      "2/2 [==============================] - 0s 17ms/step - loss: 0.2478 - accuracy: 0.9048 - val_loss: 0.2212 - val_accuracy: 0.9643\n",
      "Epoch 78/80\n",
      "2/2 [==============================] - 0s 15ms/step - loss: 0.2453 - accuracy: 0.9048 - val_loss: 0.2194 - val_accuracy: 0.9643\n",
      "Epoch 79/80\n",
      "2/2 [==============================] - 0s 13ms/step - loss: 0.2425 - accuracy: 0.9167 - val_loss: 0.2176 - val_accuracy: 0.9643\n",
      "Epoch 80/80\n",
      "2/2 [==============================] - 0s 15ms/step - loss: 0.2400 - accuracy: 0.9167 - val_loss: 0.2157 - val_accuracy: 0.9643\n",
      "time taken 1.589 sce\n"
     ]
    }
   ],
   "source": [
    "import time\n",
    "\n",
    "start = time.time()\n",
    "\n",
    "history = model.fit(x_train, y_train_1h, epochs=80, verbose=1, batch_size=64, validation_split=0.25)\n",
    "\n",
    "end = time.time()\n",
    "\n",
    "print(f'time taken {end-start:.3f} sce')"
   ]
  },
  {
   "attachments": {},
   "cell_type": "markdown",
   "metadata": {},
   "source": [
    "<h3>Evaluate</h3>"
   ]
  },
  {
   "cell_type": "code",
   "execution_count": 286,
   "metadata": {},
   "outputs": [
    {
     "name": "stdout",
     "output_type": "stream",
     "text": [
      "Test loss :  0.3368341624736786\n",
      "Test accuracy : 0.8684\n"
     ]
    }
   ],
   "source": [
    "score = model.evaluate(x_test, y_test_1h, verbose=0)\n",
    "print(\"Test loss : \",score[0])\n",
    "print(f\"Test accuracy : {score[1]:.4f}\")"
   ]
  },
  {
   "cell_type": "code",
   "execution_count": 287,
   "metadata": {},
   "outputs": [
    {
     "data": {
      "text/plain": [
       "['loss', 'accuracy']"
      ]
     },
     "execution_count": 287,
     "metadata": {},
     "output_type": "execute_result"
    }
   ],
   "source": [
    "model.metrics_names"
   ]
  },
  {
   "cell_type": "code",
   "execution_count": 288,
   "metadata": {},
   "outputs": [
    {
     "name": "stdout",
     "output_type": "stream",
     "text": [
      "2/2 [==============================] - 0s 1ms/step\n"
     ]
    },
    {
     "data": {
      "text/plain": [
       "array([[0.988, 0.01 , 0.002],\n",
       "       [0.03 , 0.738, 0.232],\n",
       "       [0.038, 0.637, 0.324],\n",
       "       [0.005, 0.257, 0.738]], dtype=float32)"
      ]
     },
     "execution_count": 288,
     "metadata": {},
     "output_type": "execute_result"
    }
   ],
   "source": [
    "y_pred = model.predict(x_test)\n",
    "\n",
    "y_pred[:4]\n",
    "y_pred[:4].round(3)"
   ]
  },
  {
   "cell_type": "code",
   "execution_count": 289,
   "metadata": {},
   "outputs": [
    {
     "data": {
      "text/plain": [
       "array([0, 1, 1, 2])"
      ]
     },
     "execution_count": 289,
     "metadata": {},
     "output_type": "execute_result"
    }
   ],
   "source": [
    "y_pred_cat = np.argmax(y_pred, axis=1)\n",
    "\n",
    "y_pred_cat[:4]"
   ]
  },
  {
   "cell_type": "code",
   "execution_count": 290,
   "metadata": {},
   "outputs": [
    {
     "data": {
      "text/plain": [
       "array([0, 1, 1, 2])"
      ]
     },
     "execution_count": 290,
     "metadata": {},
     "output_type": "execute_result"
    }
   ],
   "source": [
    "_, y_test_enc = np.unique(y_test, return_inverse=True)\n",
    "\n",
    "y_test_enc[:4]"
   ]
  },
  {
   "cell_type": "code",
   "execution_count": 291,
   "metadata": {},
   "outputs": [
    {
     "name": "stdout",
     "output_type": "stream",
     "text": [
      "                 precision    recall  f1-score   support\n",
      "\n",
      "    Iris-setosa       1.00      1.00      1.00        12\n",
      "Iris-versicolor       0.80      0.86      0.83        14\n",
      " Iris-virginica       0.82      0.75      0.78        12\n",
      "\n",
      "       accuracy                           0.87        38\n",
      "      macro avg       0.87      0.87      0.87        38\n",
      "   weighted avg       0.87      0.87      0.87        38\n",
      "\n",
      "[[12  0  0]\n",
      " [ 0 12  2]\n",
      " [ 0  3  9]]\n"
     ]
    }
   ],
   "source": [
    "from sklearn.metrics import classification_report, confusion_matrix\n",
    "\n",
    "print(classification_report(y_test_enc, y_pred_cat, target_names=class_names))\n",
    "print(confusion_matrix(y_test_enc, y_pred_cat))"
   ]
  },
  {
   "cell_type": "code",
   "execution_count": 292,
   "metadata": {},
   "outputs": [
    {
     "data": {
      "text/plain": [
       "Text(0.5, 1.0, 'Confusion Matrix')"
      ]
     },
     "execution_count": 292,
     "metadata": {},
     "output_type": "execute_result"
    },
    {
     "data": {
      "image/png": "[encoded data removed]",
      "text/plain": [
       "<Figure size 640x480 with 2 Axes>"
      ]
     },
     "metadata": {},
     "output_type": "display_data"
    }
   ],
   "source": [
    "import matplotlib.pyplot as plt\n",
    "from sklearn.metrics import classification_report, ConfusionMatrixDisplay\n",
    "\n",
    "cm = confusion_matrix(y_test_enc, y_pred_cat)\n",
    "ConfusionMatrixDisplay(cm, display_labels=class_names).plot()\n",
    "plt.title('Confusion Matrix')"
   ]
  },
  {
   "cell_type": "code",
   "execution_count": 293,
   "metadata": {},
   "outputs": [
    {
     "data": {
      "text/plain": [
       "Text(0.5, 1.0, 'Accuracy Cruve')"
      ]
     },
     "execution_count": 293,
     "metadata": {},
     "output_type": "execute_result"
    },
    {
     "data": {
      "image/png": "[encoded data removed]",
      "text/plain": [
       "<Figure size 1200x400 with 2 Axes>"
      ]
     },
     "metadata": {},
     "output_type": "display_data"
    }
   ],
   "source": [
    "plt.figure(figsize=(12,4))\n",
    "\n",
    "plt.subplot(1,2,1)\n",
    "plt.plot(history.history['loss'], '--', c='b', lw=2, label='Trainning')\n",
    "plt.plot(history.history['val_loss'], c='r', lw=3, label='Validation')\n",
    "\n",
    "plt.xlabel('Epoch')\n",
    "plt.ylabel('Loss')\n",
    "\n",
    "plt.legend()\n",
    "plt.title('Loss Cruve')\n",
    "\n",
    "plt.subplot(1,2,2)\n",
    "plt.plot(history.history['accuracy'], '--', c='b', lw=2, label='Trainning')\n",
    "plt.plot(history.history['val_accuracy'], c='r', lw=3, label='Validation')\n",
    "\n",
    "plt.xlabel('Epoch')\n",
    "plt.ylabel('Loss')\n",
    "\n",
    "plt.legend()\n",
    "plt.title('Accuracy Cruve')"
   ]
  },
  {
   "attachments": {},
   "cell_type": "markdown",
   "metadata": {},
   "source": [
    "<h3>Predict</h3>"
   ]
  },
  {
   "cell_type": "code",
   "execution_count": 294,
   "metadata": {},
   "outputs": [
    {
     "data": {
      "text/plain": [
       "array([[ 1.,  0.,  1.,  1.],\n",
       "       [-1.,  0., -1., -1.]])"
      ]
     },
     "execution_count": 294,
     "metadata": {},
     "output_type": "execute_result"
    }
   ],
   "source": [
    "x_new = [[8.1, 4.0, 5.9, 2.1],\n",
    "         [6.8, 4.0, 3.5, 1.4]]\n",
    "\n",
    "x_new_sc = sc.fit_transform(x_new)\n",
    "x_new_sc"
   ]
  },
  {
   "cell_type": "code",
   "execution_count": 295,
   "metadata": {},
   "outputs": [
    {
     "name": "stdout",
     "output_type": "stream",
     "text": [
      "1/1 [==============================] - 0s 13ms/step\n"
     ]
    },
    {
     "data": {
      "text/plain": [
       "array([[0.006, 0.147, 0.847],\n",
       "       [0.933, 0.057, 0.01 ]], dtype=float32)"
      ]
     },
     "execution_count": 295,
     "metadata": {},
     "output_type": "execute_result"
    }
   ],
   "source": [
    "y_pred_pr = model.predict(x_new_sc)\n",
    "y_pred_pr.round(3)"
   ]
  },
  {
   "cell_type": "code",
   "execution_count": 296,
   "metadata": {},
   "outputs": [
    {
     "data": {
      "text/plain": [
       "array([2, 0])"
      ]
     },
     "execution_count": 296,
     "metadata": {},
     "output_type": "execute_result"
    }
   ],
   "source": [
    "y_pred = np.argmax(y_pred_pr, axis=1)\n",
    "y_pred"
   ]
  },
  {
   "attachments": {},
   "cell_type": "markdown",
   "metadata": {},
   "source": [
    "<h3>Decision Regions</h3>"
   ]
  },
  {
   "cell_type": "code",
   "execution_count": 297,
   "metadata": {},
   "outputs": [],
   "source": [
    "class Onehot2Int(object):\n",
    "    def __init__(self, model):\n",
    "        self.model = model\n",
    "        \n",
    "    def predict(self, X):\n",
    "        y_pred = self.model.predict(X)\n",
    "        return np.argmax(y_pred, axis=1)\n",
    "    \n",
    "model_no_ohe = Onehot2Int(model)"
   ]
  },
  {
   "cell_type": "code",
   "execution_count": 298,
   "metadata": {},
   "outputs": [
    {
     "name": "stdout",
     "output_type": "stream",
     "text": [
      "9600/9600 [==============================] - 3s 294us/step\n"
     ]
    },
    {
     "data": {
      "text/plain": [
       "<matplotlib.collections.PathCollection at 0x2a3b93460>"
      ]
     },
     "execution_count": 298,
     "metadata": {},
     "output_type": "execute_result"
    },
    {
     "data": {
      "image/png": "[encoded data removed]",
      "text/plain": [
       "<Figure size 640x480 with 1 Axes>"
      ]
     },
     "metadata": {},
     "output_type": "display_data"
    }
   ],
   "source": [
    "from mlxtend.plotting import plot_decision_regions\n",
    "\n",
    "value = 0\n",
    "width = 5.5\n",
    "\n",
    "ax = plot_decision_regions(x_test, np.array(y_test_enc), \n",
    "                           clf=model_no_ohe, feature_index=[2, 3],\n",
    "                           filler_feature_values={0: value, 1: value},\n",
    "                           filler_feature_ranges={0: width, 1: width}, \n",
    "                           legend=2)\n",
    "\n",
    "handles, labels = ax.get_legend_handles_labels()\n",
    "ax.legend(handles, class_names, framealpha=0.5)\n",
    "\n",
    "plt.title(\"Tensoflow : Iris Prediction\")\n",
    "plt.xticks([])\n",
    "plt.yticks([])\n",
    "plt.xlabel('petal_length')\n",
    "plt.ylabel('petal_width')\n",
    "\n",
    "plt.scatter(x_new_sc[:,0], x_new_sc[:,1], marker='o', s=120, c='r')"
   ]
  },
  {
   "cell_type": "code",
   "execution_count": null,
   "metadata": {},
   "outputs": [],
   "source": []
  }
 ],
 "metadata": {
  "kernelspec": {
   "display_name": "Python 3",
   "language": "python",
   "name": "python3"
  },
  "language_info": {
   "codemirror_mode": {
    "name": "ipython",
    "version": 3
   },
   "file_extension": ".py",
   "mimetype": "text/x-python",
   "name": "python",
   "nbconvert_exporter": "python",
   "pygments_lexer": "ipython3",
   "version": "3.9.13"
  },
  "orig_nbformat": 4
 },
 "nbformat": 4,
 "nbformat_minor": 2
}
