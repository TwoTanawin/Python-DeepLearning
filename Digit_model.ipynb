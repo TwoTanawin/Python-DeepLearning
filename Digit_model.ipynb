{
 "cells": [
  {
   "cell_type": "code",
   "execution_count": 23,
   "metadata": {},
   "outputs": [
    {
     "name": "stdout",
     "output_type": "stream",
     "text": [
      "Model: \"sequential_1\"\n",
      "_________________________________________________________________\n",
      " Layer (type)                Output Shape              Param #   \n",
      "=================================================================\n",
      " conv2d_2 (Conv2D)           (None, 26, 26, 32)        320       \n",
      "                                                                 \n",
      " max_pooling2d_2 (MaxPoolin  (None, 13, 13, 32)        0         \n",
      " g2D)                                                            \n",
      "                                                                 \n",
      " conv2d_3 (Conv2D)           (None, 11, 11, 64)        18496     \n",
      "                                                                 \n",
      " max_pooling2d_3 (MaxPoolin  (None, 5, 5, 64)          0         \n",
      " g2D)                                                            \n",
      "                                                                 \n",
      " flatten_1 (Flatten)         (None, 1600)              0         \n",
      "                                                                 \n",
      " dense_1 (Dense)             (None, 128)               204928    \n",
      "                                                                 \n",
      " dense_2 (Dense)             (None, 10)                1290      \n",
      "                                                                 \n",
      "=================================================================\n",
      "Total params: 225034 (879.04 KB)\n",
      "Trainable params: 225034 (879.04 KB)\n",
      "Non-trainable params: 0 (0.00 Byte)\n",
      "_________________________________________________________________\n"
     ]
    }
   ],
   "source": [
    "from tensorflow.keras.models import load_model\n",
    "\n",
    "model = load_model('digitmodel.h5')\n",
    "model.summary()"
   ]
  },
  {
   "cell_type": "code",
   "execution_count": 24,
   "metadata": {},
   "outputs": [
    {
     "name": "stdout",
     "output_type": "stream",
     "text": [
      "(3, 3, 1, 32)\n",
      "[[0.03 0.16 0.04]\n",
      " [0.09 0.2  0.15]\n",
      " [0.14 0.08 0.08]]\n"
     ]
    },
    {
     "data": {
      "text/plain": [
       "([], [])"
      ]
     },
     "execution_count": 24,
     "metadata": {},
     "output_type": "execute_result"
    },
    {
     "data": {
      "image/png": "[encoded data removed]",
      "text/plain": [
       "<Figure size 640x480 with 1 Axes>"
      ]
     },
     "metadata": {},
     "output_type": "display_data"
    }
   ],
   "source": [
    "import matplotlib.pyplot as plt\n",
    "\n",
    "model_layer_idx = 0\n",
    "\n",
    "kernels, biases = model.layers[model_layer_idx].get_weights()\n",
    "print(kernels.shape)\n",
    "\n",
    "kernel_idx = 0\n",
    "kernel_i = kernels[:, :, 0, kernel_idx]\n",
    "print(kernel_i.round(2))\n",
    "\n",
    "plt.imshow(kernel_i, cmap='gray')\n",
    "plt.xticks([])\n",
    "plt.yticks([])"
   ]
  },
  {
   "cell_type": "code",
   "execution_count": 25,
   "metadata": {},
   "outputs": [
    {
     "name": "stdout",
     "output_type": "stream",
     "text": [
      "img shape :  (28, 28)\n",
      "max pixel value :  255\n",
      "Expandim:  (1, 28, 28)\n",
      "1/1 [==============================] - 0s 52ms/step\n",
      "[[0.    0.    0.996 0.    0.    0.    0.    0.    0.004 0.   ]]\n",
      "\n",
      "Predicted Number =  2\n"
     ]
    },
    {
     "data": {
      "image/png": "[encoded data removed]",
      "text/plain": [
       "<Figure size 640x480 with 1 Axes>"
      ]
     },
     "metadata": {},
     "output_type": "display_data"
    }
   ],
   "source": [
    "from tensorflow.image import rgb_to_grayscale\n",
    "import numpy as np\n",
    "import matplotlib.pyplot as plt\n",
    "import cv2\n",
    "\n",
    "image = cv2.imread('DataSet/Two.jpg')\n",
    "\n",
    "# print(image.shape)\n",
    "\n",
    "re_image = cv2.resize(image, (28,28))\n",
    "# Convert BGR image to RGB\n",
    "rgb_image = cv2.cvtColor(re_image, cv2.COLOR_BGR2RGB)\n",
    "\n",
    "plt.imshow(rgb_image)\n",
    "\n",
    "img = cv2.bitwise_not(rgb_image)\n",
    "img = np.array(img)\n",
    "img = cv2.cvtColor(img, cv2.COLOR_RGB2GRAY)\n",
    "\n",
    "print('img shape : ',img.shape)\n",
    "print('max pixel value : ', np.max(img))\n",
    "\n",
    "img = img / 255.0\n",
    "\n",
    "img = np.expand_dims(img, axis=0)\n",
    "print(\"Expandim: \",img.shape)\n",
    "\n",
    "y_pred = model.predict(img)\n",
    "print(y_pred.round(3))\n",
    "\n",
    "prediction = np.argmax(y_pred, -1)\n",
    "\n",
    "print('\\nPredicted Number = ', prediction[0])\n"
   ]
  },
  {
   "cell_type": "code",
   "execution_count": null,
   "metadata": {},
   "outputs": [],
   "source": []
  }
 ],
 "metadata": {
  "kernelspec": {
   "display_name": "Python 3",
   "language": "python",
   "name": "python3"
  },
  "language_info": {
   "codemirror_mode": {
    "name": "ipython",
    "version": 3
   },
   "file_extension": ".py",
   "mimetype": "text/x-python",
   "name": "python",
   "nbconvert_exporter": "python",
   "pygments_lexer": "ipython3",
   "version": "3.9.13"
  },
  "orig_nbformat": 4
 },
 "nbformat": 4,
 "nbformat_minor": 2
}
